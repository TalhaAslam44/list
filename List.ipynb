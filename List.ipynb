{
 "cells": [
  {
   "cell_type": "code",
   "execution_count": 2,
   "id": "93be1d99",
   "metadata": {},
   "outputs": [],
   "source": [
    "list = [1,2,3,4,5,6,71000,7800,98765,'Talha',[7,5]]"
   ]
  },
  {
   "cell_type": "code",
   "execution_count": 3,
   "id": "0900493d",
   "metadata": {},
   "outputs": [
    {
     "data": {
      "text/plain": [
       "[1, 2, 3, 4, 5, 6, 71000, 7800, 98765, 'Talha', [7, 5]]"
      ]
     },
     "execution_count": 3,
     "metadata": {},
     "output_type": "execute_result"
    }
   ],
   "source": [
    "list            # checking list members"
   ]
  },
  {
   "cell_type": "code",
   "execution_count": 4,
   "id": "5c38550a",
   "metadata": {},
   "outputs": [],
   "source": [
    "list.append('Fruits')       # .append to adding something in list"
   ]
  },
  {
   "cell_type": "code",
   "execution_count": 5,
   "id": "51589f6c",
   "metadata": {},
   "outputs": [
    {
     "data": {
      "text/plain": [
       "[1, 2, 3, 4, 5, 6, 71000, 7800, 98765, 'Talha', [7, 5], 'Fruits']"
      ]
     },
     "execution_count": 5,
     "metadata": {},
     "output_type": "execute_result"
    }
   ],
   "source": [
    "list"
   ]
  },
  {
   "cell_type": "code",
   "execution_count": 6,
   "id": "74f946ed",
   "metadata": {},
   "outputs": [],
   "source": [
    "list.append('Animals')"
   ]
  },
  {
   "cell_type": "code",
   "execution_count": 7,
   "id": "87f4eee4",
   "metadata": {},
   "outputs": [
    {
     "data": {
      "text/plain": [
       "[1, 2, 3, 4, 5, 6, 71000, 7800, 98765, 'Talha', [7, 5], 'Fruits', 'Animals']"
      ]
     },
     "execution_count": 7,
     "metadata": {},
     "output_type": "execute_result"
    }
   ],
   "source": [
    "list"
   ]
  },
  {
   "cell_type": "code",
   "execution_count": 8,
   "id": "09626df3",
   "metadata": {},
   "outputs": [
    {
     "ename": "TypeError",
     "evalue": "list.append() takes exactly one argument (2 given)",
     "output_type": "error",
     "traceback": [
      "\u001b[1;31m---------------------------------------------------------------------------\u001b[0m",
      "\u001b[1;31mTypeError\u001b[0m                                 Traceback (most recent call last)",
      "\u001b[1;32m~\\AppData\\Local\\Temp/ipykernel_11588/3370218103.py\u001b[0m in \u001b[0;36m<module>\u001b[1;34m\u001b[0m\n\u001b[1;32m----> 1\u001b[1;33m \u001b[0mlist\u001b[0m\u001b[1;33m.\u001b[0m\u001b[0mappend\u001b[0m\u001b[1;33m(\u001b[0m\u001b[1;36m500\u001b[0m\u001b[1;33m,\u001b[0m\u001b[1;36m600\u001b[0m\u001b[1;33m)\u001b[0m\u001b[1;33m\u001b[0m\u001b[1;33m\u001b[0m\u001b[0m\n\u001b[0m",
      "\u001b[1;31mTypeError\u001b[0m: list.append() takes exactly one argument (2 given)"
     ]
    }
   ],
   "source": [
    "list.append(500,600)"
   ]
  },
  {
   "cell_type": "code",
   "execution_count": 9,
   "id": "3525718c",
   "metadata": {},
   "outputs": [],
   "source": [
    "list.append(500)"
   ]
  },
  {
   "cell_type": "code",
   "execution_count": 10,
   "id": "82c40f29",
   "metadata": {},
   "outputs": [
    {
     "data": {
      "text/plain": [
       "[1,\n",
       " 2,\n",
       " 3,\n",
       " 4,\n",
       " 5,\n",
       " 6,\n",
       " 71000,\n",
       " 7800,\n",
       " 98765,\n",
       " 'Talha',\n",
       " [7, 5],\n",
       " 'Fruits',\n",
       " 'Animals',\n",
       " 500]"
      ]
     },
     "execution_count": 10,
     "metadata": {},
     "output_type": "execute_result"
    }
   ],
   "source": [
    "list"
   ]
  },
  {
   "cell_type": "code",
   "execution_count": 12,
   "id": "95f8f5e8",
   "metadata": {},
   "outputs": [
    {
     "data": {
      "text/plain": [
       "2"
      ]
     },
     "execution_count": 12,
     "metadata": {},
     "output_type": "execute_result"
    }
   ],
   "source": [
    "list[1]      # checking or extracting the location of the members contained in list"
   ]
  },
  {
   "cell_type": "code",
   "execution_count": 13,
   "id": "bb4fcfd4",
   "metadata": {},
   "outputs": [
    {
     "data": {
      "text/plain": [
       "7800"
      ]
     },
     "execution_count": 13,
     "metadata": {},
     "output_type": "execute_result"
    }
   ],
   "source": [
    "list[7]"
   ]
  },
  {
   "cell_type": "code",
   "execution_count": 14,
   "id": "0736f864",
   "metadata": {},
   "outputs": [
    {
     "data": {
      "text/plain": [
       "'Talha'"
      ]
     },
     "execution_count": 14,
     "metadata": {},
     "output_type": "execute_result"
    }
   ],
   "source": [
    "list[9]"
   ]
  },
  {
   "cell_type": "code",
   "execution_count": 26,
   "id": "26678750",
   "metadata": {},
   "outputs": [
    {
     "data": {
      "text/plain": [
       "15"
      ]
     },
     "execution_count": 26,
     "metadata": {},
     "output_type": "execute_result"
    }
   ],
   "source": [
    "len(list)  # for checking length of list or decalerd "
   ]
  },
  {
   "cell_type": "code",
   "execution_count": 17,
   "id": "d437fd3d",
   "metadata": {},
   "outputs": [
    {
     "data": {
      "text/plain": [
       "9"
      ]
     },
     "execution_count": 17,
     "metadata": {},
     "output_type": "execute_result"
    }
   ],
   "source": [
    "list.index('Talha')"
   ]
  },
  {
   "cell_type": "code",
   "execution_count": 18,
   "id": "ca2c7db1",
   "metadata": {},
   "outputs": [],
   "source": [
    "list.append('Fruits(straw berry, orange, mango, apple)')"
   ]
  },
  {
   "cell_type": "code",
   "execution_count": 19,
   "id": "cd7c02f1",
   "metadata": {},
   "outputs": [
    {
     "data": {
      "text/plain": [
       "[1,\n",
       " 2,\n",
       " 3,\n",
       " 4,\n",
       " 5,\n",
       " 6,\n",
       " 71000,\n",
       " 7800,\n",
       " 98765,\n",
       " 'Talha',\n",
       " [7, 5],\n",
       " 'Fruits',\n",
       " 'Animals',\n",
       " 500,\n",
       " 'Fruits(straw berry, orange, mango, apple)']"
      ]
     },
     "execution_count": 19,
     "metadata": {},
     "output_type": "execute_result"
    }
   ],
   "source": [
    "list"
   ]
  },
  {
   "cell_type": "code",
   "execution_count": 20,
   "id": "486c5261",
   "metadata": {},
   "outputs": [
    {
     "data": {
      "text/plain": [
       "[2, 3]"
      ]
     },
     "execution_count": 20,
     "metadata": {},
     "output_type": "execute_result"
    }
   ],
   "source": [
    "list[1:3]"
   ]
  },
  {
   "cell_type": "code",
   "execution_count": 21,
   "id": "5784541d",
   "metadata": {},
   "outputs": [
    {
     "data": {
      "text/plain": [
       "[71000]"
      ]
     },
     "execution_count": 21,
     "metadata": {},
     "output_type": "execute_result"
    }
   ],
   "source": [
    "list[6:7]"
   ]
  },
  {
   "cell_type": "code",
   "execution_count": 22,
   "id": "f96e297a",
   "metadata": {},
   "outputs": [
    {
     "data": {
      "text/plain": [
       "[2, 3, 4, 5, 6, 71000, 7800, 98765]"
      ]
     },
     "execution_count": 22,
     "metadata": {},
     "output_type": "execute_result"
    }
   ],
   "source": [
    "list[1:9]"
   ]
  },
  {
   "cell_type": "code",
   "execution_count": 23,
   "id": "1bbc25ff",
   "metadata": {},
   "outputs": [
    {
     "data": {
      "text/plain": [
       "[7800,\n",
       " 98765,\n",
       " 'Talha',\n",
       " [7, 5],\n",
       " 'Fruits',\n",
       " 'Animals',\n",
       " 500,\n",
       " 'Fruits(straw berry, orange, mango, apple)']"
      ]
     },
     "execution_count": 23,
     "metadata": {},
     "output_type": "execute_result"
    }
   ],
   "source": [
    "list[7:]"
   ]
  },
  {
   "cell_type": "code",
   "execution_count": 24,
   "id": "d1c236b2",
   "metadata": {},
   "outputs": [
    {
     "data": {
      "text/plain": [
       "[1, 2, 3, 4, 5, 6, 71000, 7800]"
      ]
     },
     "execution_count": 24,
     "metadata": {},
     "output_type": "execute_result"
    }
   ],
   "source": [
    "list[:8]"
   ]
  },
  {
   "cell_type": "code",
   "execution_count": 29,
   "id": "c06a50bf",
   "metadata": {},
   "outputs": [],
   "source": [
    "list.append('Animals(Lion, rhinoceros, panda, polar bear, mokey)')"
   ]
  },
  {
   "cell_type": "code",
   "execution_count": 30,
   "id": "802f7a99",
   "metadata": {},
   "outputs": [
    {
     "data": {
      "text/plain": [
       "[1,\n",
       " 2,\n",
       " 3,\n",
       " 4,\n",
       " 5,\n",
       " 6,\n",
       " 71000,\n",
       " 7800,\n",
       " 98765,\n",
       " 'Talha',\n",
       " [7, 5],\n",
       " 'Fruits',\n",
       " 'Animals',\n",
       " 500,\n",
       " 'Fruits(straw berry, orange, mango, apple)',\n",
       " 'Animal(Lion, rhinoceros, panda, polar bear, mokey)',\n",
       " 'Animals(Lion, rhinoceros, panda, polar bear, mokey)']"
      ]
     },
     "execution_count": 30,
     "metadata": {},
     "output_type": "execute_result"
    }
   ],
   "source": [
    "list"
   ]
  },
  {
   "cell_type": "code",
   "execution_count": null,
   "id": "aee36e63",
   "metadata": {},
   "outputs": [],
   "source": []
  }
 ],
 "metadata": {
  "kernelspec": {
   "display_name": "Python 3 (ipykernel)",
   "language": "python",
   "name": "python3"
  },
  "language_info": {
   "codemirror_mode": {
    "name": "ipython",
    "version": 3
   },
   "file_extension": ".py",
   "mimetype": "text/x-python",
   "name": "python",
   "nbconvert_exporter": "python",
   "pygments_lexer": "ipython3",
   "version": "3.9.7"
  }
 },
 "nbformat": 4,
 "nbformat_minor": 5
}
